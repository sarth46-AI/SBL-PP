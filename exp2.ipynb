{
  "metadata": {
    "kernelspec": {
      "name": "python",
      "display_name": "Python (Pyodide)",
      "language": "python"
    },
    "language_info": {
      "codemirror_mode": {
        "name": "python",
        "version": 3
      },
      "file_extension": ".py",
      "mimetype": "text/x-python",
      "name": "python",
      "nbconvert_exporter": "python",
      "pygments_lexer": "ipython3",
      "version": "3.8"
    }
  },
  "nbformat_minor": 5,
  "nbformat": 4,
  "cells": [
    {
      "id": "cb8a88ee-b8d7-488c-bef2-4af8f7c2996c",
      "cell_type": "code",
      "source": "class Employee:\n    def __init__ (\n            self,\n            designation : str = 'Developer',\n            frontend : bool = False,\n            backend : bool = False\n    ):\n        self.designation = designation\n        self.frontend = frontend\n        self.backend = backend\n\n    def __repr__ (self):\n        return '{} - Frontend: {}, Backend: {}'.format(self.designation, self.frontend, self.backend)\n    \n    ### Write your method over here.\n    def verifier(self):\n        if self.frontend and self.backend:\n            return \"Fullstack\"\n        elif self.frontend:\n            return \"Frontend Developer\"\n        elif self.backend:\n            return \"Backend Developer\"\n        else:\n            return \"Not a Developer\"\n\nif __name__ == '__main__':\n    firstEmployee = Employee(frontend=True)\n    secondEmployee = Employee(frontend=True, backend=True)\n    thirdEmployee = Employee(backend=True)\n    fourthEmployee = Employee()\n    \n    print(firstEmployee.verifier())  # Output: Frontend Developer\n    print(secondEmployee.verifier())  # Output: Fullstack\n    print(thirdEmployee.verifier())  # Output: Backend Developer\n    print(fourthEmployee.verifier())  # Output: Not a Developer\n",
      "metadata": {
        "trusted": true
      },
      "outputs": [
        {
          "name": "stdout",
          "output_type": "stream",
          "text": "Frontend Developer\nFullstack\nBackend Developer\nNot a Developer\n"
        }
      ],
      "execution_count": 4
    },
    {
      "id": "a6d4b4fc-74cf-40d7-bad7-beed80cd1cad",
      "cell_type": "code",
      "source": "",
      "metadata": {
        "trusted": true
      },
      "outputs": [],
      "execution_count": null
    },
    {
      "id": "7d94316e-4662-4aba-b73c-e1e03d7c3cec",
      "cell_type": "code",
      "source": "",
      "metadata": {
        "trusted": true
      },
      "outputs": [],
      "execution_count": null
    }
  ]
}