{
 "cells": [
  {
   "cell_type": "code",
   "execution_count": 6,
   "id": "91764e7a",
   "metadata": {},
   "outputs": [
    {
     "name": "stdout",
     "output_type": "stream",
     "text": [
      "Lines: 4\n",
      "Words: 21\n",
      "Characters: 123\n"
     ]
    }
   ],
   "source": [
    "if __name__ == '__main__':\n",
    "    with open('./h46.txt', 'r') as file:\n",
    "        lines = file.readlines()\n",
    "        numberOfLines = len(lines)\n",
    "        numberOfWords = sum(len(line.split()) for line in lines)\n",
    "        \n",
    "        # Write numberOfCharacters over here.\n",
    "        numberOfCharacters = sum(len(line) for line in lines)\n",
    "\n",
    "    print(f\"Lines: {numberOfLines}\")\n",
    "    print(f\"Words: {numberOfWords}\")\n",
    "    print(f\"Characters: {numberOfCharacters}\")\n"
   ]
  },
  {
   "cell_type": "code",
   "execution_count": null,
   "id": "21300224",
   "metadata": {},
   "outputs": [],
   "source": []
  },
  {
   "cell_type": "code",
   "execution_count": null,
   "id": "01fdb52d",
   "metadata": {},
   "outputs": [],
   "source": []
  },
  {
   "cell_type": "code",
   "execution_count": null,
   "id": "28d9d435",
   "metadata": {},
   "outputs": [],
   "source": []
  },
  {
   "cell_type": "code",
   "execution_count": null,
   "id": "73fadd86",
   "metadata": {},
   "outputs": [],
   "source": []
  }
 ],
 "metadata": {
  "kernelspec": {
   "display_name": "Python 3 (ipykernel)",
   "language": "python",
   "name": "python3"
  },
  "language_info": {
   "codemirror_mode": {
    "name": "ipython",
    "version": 3
   },
   "file_extension": ".py",
   "mimetype": "text/x-python",
   "name": "python",
   "nbconvert_exporter": "python",
   "pygments_lexer": "ipython3",
   "version": "3.11.4"
  }
 },
 "nbformat": 4,
 "nbformat_minor": 5
}
